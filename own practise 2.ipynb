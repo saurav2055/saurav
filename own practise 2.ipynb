{
 "cells": [
  {
   "cell_type": "code",
   "execution_count": null,
   "metadata": {},
   "outputs": [
    {
     "name": "stdout",
     "output_type": "stream",
     "text": [
      "enter the no of student = 2\n",
      "enter name = saurav\n",
      "enter grade = 12\n",
      "enter age = 18\n",
      "enter maths marks = 56\n",
      "enter social marks = 76\n",
      "enter nepali marks = 58\n",
      "enter hpe marks = 76\n",
      "enter computer marks = 45\n",
      "enter name = 34\n",
      "enter grade = 53\n"
     ]
    }
   ],
   "source": [
    "# WAP for result management system\n",
    "\n",
    "info=\"\"\n",
    "n = int(input(\"enter the no of student = \"))\n",
    "for i in range(n):\n",
    "    name = input(\"enter name = \")+\"\\n\"\n",
    "    grade = input(\"enter grade = \")+\"\\n\"\n",
    "    science = input(\"enter age = \")+\"\\n\"\n",
    "    maths =input(\"enter maths marks = \")+\"\\n\"\n",
    "    social=input(\"enter social marks = \")+\"\\n\"\n",
    "    nepali =input(\"enter nepali marks = \")+\"\\n\"\n",
    "    hpe =input(\"enter hpe marks = \")+\"\\n\"\n",
    "    computer =input(\"enter computer marks = \")+\"\\n\"\n",
    "    info = name+str(grade)+str(science)+str(maths)+str(social)+str(nepali)+str(hpe)+str(computer)\n",
    "print(info)"
   ]
  },
  {
   "cell_type": "markdown",
   "metadata": {},
   "source": []
  },
  {
   "cell_type": "code",
   "execution_count": 2,
   "metadata": {},
   "outputs": [
    {
     "name": "stdout",
     "output_type": "stream",
     "text": [
      "hello world\n"
     ]
    }
   ],
   "source": [
    "class hello():\n",
    "    print(\"hello world\")\n",
    "obj = hello()\n"
   ]
  },
  {
   "cell_type": "code",
   "execution_count": 5,
   "metadata": {},
   "outputs": [
    {
     "name": "stdout",
     "output_type": "stream",
     "text": [
      "hello world\n"
     ]
    }
   ],
   "source": [
    "class hello():\n",
    "    def hello(self):\n",
    "        print(\"hello world\")\n",
    "obj = hello()\n",
    "obj.hello()"
   ]
  },
  {
   "cell_type": "code",
   "execution_count": 6,
   "metadata": {},
   "outputs": [
    {
     "name": "stdout",
     "output_type": "stream",
     "text": [
      "hello world\n",
      "hello world\n"
     ]
    }
   ],
   "source": [
    "class hello():\n",
    "    def hello(self):\n",
    "        print(\"hello world\")\n",
    "    def hello(this):\n",
    "        print(\"hello world\")\n",
    "obj = hello()\n",
    "obj.hello()\n",
    "obj.hello()"
   ]
  },
  {
   "cell_type": "markdown",
   "metadata": {},
   "source": [
    "#### wap to find area and volume\n",
    "\n",
    "class cal:\n",
    "    def area(self,l,b):\n",
    "        a = l*b\n",
    "        print(\"the area is \",a)\n",
    "    \n",
    "    def volume(self,l,b,h):\n",
    "        v = l*b*h\n",
    "        print(\"the volume is \",v)\n",
    "        \n",
    "    \n",
    "obj = cal()\n",
    "l=input(\"enter length =\")\n",
    "b=input(\"enter breadth =\")\n",
    "h=input(\"enter height =\")\n",
    "obj.area(l,b)\n",
    "obj.volume(l,b,h)"
   ]
  },
  {
   "cell_type": "code",
   "execution_count": 17,
   "metadata": {},
   "outputs": [
    {
     "name": "stdout",
     "output_type": "stream",
     "text": [
      "Enter l = 23\n",
      "Enter b = 43\n",
      "Enter h = 54\n",
      "The area is =  989\n",
      "The volume is =  53406\n"
     ]
    }
   ],
   "source": [
    "class Cal:\n",
    "    def area(self,l,b):\n",
    "        a = l*b\n",
    "        print(\"The area is = \",a)\n",
    "    def volume(self,l,b,h):\n",
    "        v = l*b*h\n",
    "        print(\"The volume is = \",v)\n",
    "    \n",
    "obj = Cal()\n",
    "l = int(input(\"Enter l = \"))\n",
    "b = int(input(\"Enter b = \"))\n",
    "h = int(input(\"Enter h = \"))\n",
    "obj.area(l,b)\n",
    "obj.volume(l,b,h)"
   ]
  },
  {
   "cell_type": "code",
   "execution_count": 19,
   "metadata": {},
   "outputs": [
    {
     "name": "stdout",
     "output_type": "stream",
     "text": [
      "enter length =24\n",
      "enter breadth =64\n",
      "enter height =65\n"
     ]
    },
    {
     "ename": "TypeError",
     "evalue": "can't multiply sequence by non-int of type 'str'",
     "output_type": "error",
     "traceback": [
      "\u001b[1;31m---------------------------------------------------------------------------\u001b[0m",
      "\u001b[1;31mTypeError\u001b[0m                                 Traceback (most recent call last)",
      "\u001b[1;32m<ipython-input-19-ee8b92d6f900>\u001b[0m in \u001b[0;36m<module>\u001b[1;34m\u001b[0m\n\u001b[0;32m     13\u001b[0m \u001b[0mb\u001b[0m\u001b[1;33m=\u001b[0m\u001b[0minput\u001b[0m\u001b[1;33m(\u001b[0m\u001b[1;34m\"enter breadth =\"\u001b[0m\u001b[1;33m)\u001b[0m\u001b[1;33m\u001b[0m\u001b[1;33m\u001b[0m\u001b[0m\n\u001b[0;32m     14\u001b[0m \u001b[0mh\u001b[0m\u001b[1;33m=\u001b[0m\u001b[0minput\u001b[0m\u001b[1;33m(\u001b[0m\u001b[1;34m\"enter height =\"\u001b[0m\u001b[1;33m)\u001b[0m\u001b[1;33m\u001b[0m\u001b[1;33m\u001b[0m\u001b[0m\n\u001b[1;32m---> 15\u001b[1;33m \u001b[0mobj\u001b[0m\u001b[1;33m.\u001b[0m\u001b[0marea\u001b[0m\u001b[1;33m(\u001b[0m\u001b[0ml\u001b[0m\u001b[1;33m,\u001b[0m\u001b[0mb\u001b[0m\u001b[1;33m)\u001b[0m\u001b[1;33m\u001b[0m\u001b[1;33m\u001b[0m\u001b[0m\n\u001b[0m\u001b[0;32m     16\u001b[0m \u001b[0mobj\u001b[0m\u001b[1;33m.\u001b[0m\u001b[0mvolume\u001b[0m\u001b[1;33m(\u001b[0m\u001b[0ml\u001b[0m\u001b[1;33m,\u001b[0m\u001b[0mb\u001b[0m\u001b[1;33m,\u001b[0m\u001b[0mh\u001b[0m\u001b[1;33m)\u001b[0m\u001b[1;33m\u001b[0m\u001b[1;33m\u001b[0m\u001b[0m\n",
      "\u001b[1;32m<ipython-input-19-ee8b92d6f900>\u001b[0m in \u001b[0;36marea\u001b[1;34m(self, l, b)\u001b[0m\n\u001b[0;32m      1\u001b[0m \u001b[1;32mclass\u001b[0m \u001b[0mcal\u001b[0m\u001b[1;33m:\u001b[0m\u001b[1;33m\u001b[0m\u001b[1;33m\u001b[0m\u001b[0m\n\u001b[0;32m      2\u001b[0m     \u001b[1;32mdef\u001b[0m \u001b[0marea\u001b[0m\u001b[1;33m(\u001b[0m\u001b[0mself\u001b[0m\u001b[1;33m,\u001b[0m\u001b[0ml\u001b[0m\u001b[1;33m,\u001b[0m\u001b[0mb\u001b[0m\u001b[1;33m)\u001b[0m\u001b[1;33m:\u001b[0m\u001b[1;33m\u001b[0m\u001b[1;33m\u001b[0m\u001b[0m\n\u001b[1;32m----> 3\u001b[1;33m         \u001b[0ma\u001b[0m \u001b[1;33m=\u001b[0m \u001b[0ml\u001b[0m\u001b[1;33m*\u001b[0m\u001b[0mb\u001b[0m\u001b[1;33m\u001b[0m\u001b[1;33m\u001b[0m\u001b[0m\n\u001b[0m\u001b[0;32m      4\u001b[0m         \u001b[0mprint\u001b[0m\u001b[1;33m(\u001b[0m\u001b[1;34m\"the area is =\"\u001b[0m\u001b[1;33m,\u001b[0m\u001b[0ma\u001b[0m\u001b[1;33m)\u001b[0m\u001b[1;33m\u001b[0m\u001b[1;33m\u001b[0m\u001b[0m\n\u001b[0;32m      5\u001b[0m \u001b[1;33m\u001b[0m\u001b[0m\n",
      "\u001b[1;31mTypeError\u001b[0m: can't multiply sequence by non-int of type 'str'"
     ]
    }
   ],
   "source": [
    "class cal:\n",
    "    def area(self,l,b):\n",
    "        a = l*b\n",
    "        print(\"the area is =\",a)\n",
    "    \n",
    "    def volume(self,l,b,h):\n",
    "        v = l*b*h\n",
    "        print(\"the volume is = \",v)\n",
    "        \n",
    "    \n",
    "obj = cal()\n",
    "l=input(\"enter length =\")\n",
    "b=input(\"enter breadth =\")\n",
    "h=input(\"enter height =\")\n",
    "obj.area(l,b)\n",
    "obj.volume(l,b,h)"
   ]
  },
  {
   "cell_type": "code",
   "execution_count": null,
   "metadata": {},
   "outputs": [],
   "source": []
  }
 ],
 "metadata": {
  "kernelspec": {
   "display_name": "Python 3",
   "language": "python",
   "name": "python3"
  },
  "language_info": {
   "codemirror_mode": {
    "name": "ipython",
    "version": 3
   },
   "file_extension": ".py",
   "mimetype": "text/x-python",
   "name": "python",
   "nbconvert_exporter": "python",
   "pygments_lexer": "ipython3",
   "version": "3.8.5"
  }
 },
 "nbformat": 4,
 "nbformat_minor": 4
}
